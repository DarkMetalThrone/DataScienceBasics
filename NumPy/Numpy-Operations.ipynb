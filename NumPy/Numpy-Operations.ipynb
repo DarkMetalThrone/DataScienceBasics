{
 "cells": [
  {
   "attachments": {},
   "cell_type": "markdown",
   "metadata": {},
   "source": [
    "# Numpy Operations"
   ]
  },
  {
   "cell_type": "code",
   "execution_count": 2,
   "metadata": {},
   "outputs": [],
   "source": [
    "import numpy as np"
   ]
  },
  {
   "cell_type": "code",
   "execution_count": 15,
   "metadata": {},
   "outputs": [
    {
     "name": "stdout",
     "output_type": "stream",
     "text": [
      "[1 2 3 4 5 6]\n",
      "\n",
      "[4 5 6 7 8 9]\n"
     ]
    }
   ],
   "source": [
    "# Creating two numpy arrays\n",
    "arr1 = np.arange(1,7)\n",
    "arr2 = np.arange(4,10)\n",
    "print(arr1)\n",
    "print()\n",
    "print(arr2)"
   ]
  },
  {
   "cell_type": "code",
   "execution_count": 10,
   "metadata": {},
   "outputs": [
    {
     "data": {
      "text/plain": [
       "array([-3, -3, -3, -3, -3, -3])"
      ]
     },
     "execution_count": 10,
     "metadata": {},
     "output_type": "execute_result"
    }
   ],
   "source": [
    "# simple arithmatic functions can be directly used on objects\n",
    "arr1 - arr2\n",
    "# this will perform element wise substraction"
   ]
  },
  {
   "cell_type": "code",
   "execution_count": 13,
   "metadata": {},
   "outputs": [
    {
     "data": {
      "text/plain": [
       "array([ 2,  4,  6,  8, 10, 12])"
      ]
     },
     "execution_count": 13,
     "metadata": {},
     "output_type": "execute_result"
    }
   ],
   "source": [
    "# Scalar Multiplication can be done as follows\n",
    "arr1 * 2"
   ]
  },
  {
   "cell_type": "code",
   "execution_count": 18,
   "metadata": {},
   "outputs": [
    {
     "data": {
      "text/plain": [
       "array([ 4, 10, 18, 28, 40, 54])"
      ]
     },
     "execution_count": 18,
     "metadata": {},
     "output_type": "execute_result"
    }
   ],
   "source": [
    "# Vector Multiplication can also be done element wise\n",
    "arr1 * arr2 # note that this NOT the DOT or CROSS Product"
   ]
  },
  {
   "cell_type": "code",
   "execution_count": 21,
   "metadata": {},
   "outputs": [
    {
     "data": {
      "text/plain": [
       "array([False, False,  True,  True,  True,  True])"
      ]
     },
     "execution_count": 21,
     "metadata": {},
     "output_type": "execute_result"
    }
   ],
   "source": [
    "# Logical Statements return boolean values\n",
    "arr2 > 5\n",
    "# this will return an array of the some size but containing boolean values"
   ]
  },
  {
   "cell_type": "code",
   "execution_count": 23,
   "metadata": {},
   "outputs": [
    {
     "data": {
      "text/plain": [
       "array([[ 28,  31],\n",
       "       [100, 112]])"
      ]
     },
     "execution_count": 23,
     "metadata": {},
     "output_type": "execute_result"
    }
   ],
   "source": [
    "# DOT product\n",
    "arr3 = np.arange(6).reshape(2,3)\n",
    "arr4 = np.arange(6, 12).reshape(3,2)\n",
    "arr3.dot(arr4)\n",
    "# since the dimensions allow this, it will work"
   ]
  },
  {
   "cell_type": "code",
   "execution_count": 26,
   "metadata": {},
   "outputs": [
    {
     "name": "stdout",
     "output_type": "stream",
     "text": [
      "0\n",
      "5\n"
     ]
    }
   ],
   "source": [
    "# minimum and maximum have there own small methods\n",
    "print(arr3.min())\n",
    "print(arr3.max())"
   ]
  },
  {
   "cell_type": "code",
   "execution_count": 28,
   "metadata": {},
   "outputs": [
    {
     "name": "stdout",
     "output_type": "stream",
     "text": [
      "[6 7]\n",
      "[10 11]\n",
      "[ 6  8 10]\n",
      "[ 7  9 11]\n"
     ]
    }
   ],
   "source": [
    "# for a row wise minimum/maximum we can enter a paramater called 'axis'\n",
    "print(arr4.min(axis=0))\n",
    "print(arr4.max(axis=0))\n",
    "# for column wise min/max the axis should be given as 1\n",
    "print(arr4.min(axis=1))\n",
    "print(arr4.max(axis=1))"
   ]
  },
  {
   "cell_type": "code",
   "execution_count": 34,
   "metadata": {},
   "outputs": [
    {
     "name": "stdout",
     "output_type": "stream",
     "text": [
      "15\n",
      "[3 5 7]\n",
      "[ 3 12]\n",
      "2.5\n",
      "1.707825127659933\n"
     ]
    }
   ],
   "source": [
    "# calculate the sum of all the elements\n",
    "print(arr3.sum())\n",
    "\n",
    "# row/column wise sum can be returned using the same 'axis'\n",
    "print(arr3.sum(axis=0)) # for rows\n",
    "print(arr3.sum(axis=1)) # for columns\n",
    "\n",
    "# mean also has its own method\n",
    "print(arr3.mean()) # for all the elements in the array\n",
    "\n",
    "# standard deviation also has similar functionality\n",
    "print(arr3.std())"
   ]
  },
  {
   "cell_type": "code",
   "execution_count": 38,
   "metadata": {},
   "outputs": [
    {
     "name": "stdout",
     "output_type": "stream",
     "text": [
      "[[-0.2794155   0.6569866 ]\n",
      " [ 0.98935825  0.41211849]\n",
      " [-0.54402111 -0.99999021]]\n",
      "8.5\n",
      "[[  403.42879349  1096.63315843]\n",
      " [ 2980.95798704  8103.08392758]\n",
      " [22026.46579481 59874.1417152 ]]\n"
     ]
    }
   ],
   "source": [
    "# some functions take array obejcts as inputs\n",
    "print(np.sin(arr4))\n",
    "print(np.median(arr4))\n",
    "print(np.exp(arr4))\n",
    "# there are several functions like sine, cos, tan, etc...."
   ]
  }
 ],
 "metadata": {
  "kernelspec": {
   "display_name": "ds",
   "language": "python",
   "name": "python3"
  },
  "language_info": {
   "codemirror_mode": {
    "name": "ipython",
    "version": 3
   },
   "file_extension": ".py",
   "mimetype": "text/x-python",
   "name": "python",
   "nbconvert_exporter": "python",
   "pygments_lexer": "ipython3",
   "version": "3.10.11"
  },
  "orig_nbformat": 4
 },
 "nbformat": 4,
 "nbformat_minor": 2
}
