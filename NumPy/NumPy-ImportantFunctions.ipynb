{
 "cells": [
  {
   "attachments": {},
   "cell_type": "markdown",
   "metadata": {},
   "source": [
    "## Important Functions"
   ]
  },
  {
   "cell_type": "code",
   "execution_count": 1,
   "metadata": {},
   "outputs": [],
   "source": [
    "import numpy as np"
   ]
  },
  {
   "cell_type": "code",
   "execution_count": 2,
   "metadata": {},
   "outputs": [
    {
     "name": "stdout",
     "output_type": "stream",
     "text": [
      "0.1298951460812514\n"
     ]
    }
   ],
   "source": [
    "# Random Function\n",
    "print(np.random.random()) # Changes every time you run the cell"
   ]
  },
  {
   "cell_type": "code",
   "execution_count": 3,
   "metadata": {},
   "outputs": [
    {
     "name": "stdout",
     "output_type": "stream",
     "text": [
      "None\n",
      "0.417022004702574\n"
     ]
    }
   ],
   "source": [
    "print(np.random.seed(1)) # seeds the next one accurence \n",
    "print(np.random.random()) # now the randomly generated number doesnt change"
   ]
  },
  {
   "cell_type": "code",
   "execution_count": 4,
   "metadata": {},
   "outputs": [
    {
     "data": {
      "text/plain": [
       "array([[72.31212485,  1.01132311],\n",
       "       [30.93092469, 15.52883319],\n",
       "       [10.14152088, 19.43976093],\n",
       "       [35.21051198, 40.27997995],\n",
       "       [54.34285667, 42.50025693]])"
      ]
     },
     "execution_count": 4,
     "metadata": {},
     "output_type": "execute_result"
    }
   ],
   "source": [
    "# You can generate any random values between a given range\n",
    "np.random.uniform(1, 100, 10).reshape(5,2)\n",
    "# generates 10 random values between 1 and 100\n",
    "# yes you can reshape it further"
   ]
  },
  {
   "cell_type": "code",
   "execution_count": 5,
   "metadata": {},
   "outputs": [
    {
     "name": "stdout",
     "output_type": "stream",
     "text": [
      "[[3 5 3 5 8]\n",
      " [8 2 8 1 7]\n",
      " [8 7 2 1 2]]\n"
     ]
    }
   ],
   "source": [
    "# to generate only integers\n",
    "arr = np.random.randint(1, 10, 15).reshape(3,5)\n",
    "# generate 15 integers between 1 and 10 and reshape into (3,5)\n",
    "print(arr)"
   ]
  },
  {
   "cell_type": "code",
   "execution_count": 6,
   "metadata": {},
   "outputs": [
    {
     "name": "stdout",
     "output_type": "stream",
     "text": [
      "1\n",
      "8\n"
     ]
    }
   ],
   "source": [
    "# we are familiar with min and max functions\n",
    "print(np.min(arr))\n",
    "print(np.max(arr))"
   ]
  },
  {
   "cell_type": "code",
   "execution_count": 7,
   "metadata": {},
   "outputs": [
    {
     "name": "stdout",
     "output_type": "stream",
     "text": [
      "4\n",
      "8\n"
     ]
    }
   ],
   "source": [
    "# to get the index of the min or max element\n",
    "print(np.argmax(arr))\n",
    "print(np.argmin(arr))"
   ]
  },
  {
   "cell_type": "code",
   "execution_count": 8,
   "metadata": {},
   "outputs": [
    {
     "name": "stdout",
     "output_type": "stream",
     "text": [
      "[[-1 -1 -1 -1  8]\n",
      " [ 8  2  8 -1 -1]\n",
      " [ 8 -1  2 -1  2]]\n"
     ]
    }
   ],
   "source": [
    "# suppose you want to replace all the odd elements with -1\n",
    "arr[arr%2 != 0] = -1\n",
    "print(arr)\n",
    "# doing this will change the current function"
   ]
  },
  {
   "cell_type": "code",
   "execution_count": 9,
   "metadata": {},
   "outputs": [
    {
     "name": "stdout",
     "output_type": "stream",
     "text": [
      "[ 9 25 14 48 43]\n",
      "[-1 -1 14 48 -1]\n"
     ]
    }
   ],
   "source": [
    "# where functions - it is like conditional statement\n",
    "a = np.random.randint(1, 50, 5)\n",
    "print(a)\n",
    "b = np.where(a%2 == 1, -1, a)\n",
    "# this will replace all the odd elements with -1 and the rest are left as is\n",
    "print(b)"
   ]
  },
  {
   "cell_type": "code",
   "execution_count": 10,
   "metadata": {},
   "outputs": [
    {
     "name": "stdout",
     "output_type": "stream",
     "text": [
      "[ 4  4  5  7  8  9 22 25 31 44]\n"
     ]
    },
    {
     "data": {
      "text/plain": [
       "8.5"
      ]
     },
     "execution_count": 10,
     "metadata": {},
     "output_type": "execute_result"
    }
   ],
   "source": [
    "# percentile\n",
    "c = np.random.randint(1, 50, 10)\n",
    "c = np.sort(c)\n",
    "print(c)\n",
    "np.percentile(c, 50)\n",
    "# this means that 50 percent of elements are less than this value"
   ]
  }
 ],
 "metadata": {
  "kernelspec": {
   "display_name": "ds",
   "language": "python",
   "name": "python3"
  },
  "language_info": {
   "codemirror_mode": {
    "name": "ipython",
    "version": 3
   },
   "file_extension": ".py",
   "mimetype": "text/x-python",
   "name": "python",
   "nbconvert_exporter": "python",
   "pygments_lexer": "ipython3",
   "version": "3.10.11"
  },
  "orig_nbformat": 4
 },
 "nbformat": 4,
 "nbformat_minor": 2
}
