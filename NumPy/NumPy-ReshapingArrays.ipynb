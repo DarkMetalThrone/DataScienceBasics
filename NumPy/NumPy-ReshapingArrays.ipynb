{
 "cells": [
  {
   "attachments": {},
   "cell_type": "markdown",
   "metadata": {},
   "source": [
    "## Reshaping NumPy Arrays"
   ]
  },
  {
   "cell_type": "code",
   "execution_count": 2,
   "metadata": {},
   "outputs": [],
   "source": [
    "import numpy as np"
   ]
  },
  {
   "cell_type": "code",
   "execution_count": 13,
   "metadata": {},
   "outputs": [
    {
     "name": "stdout",
     "output_type": "stream",
     "text": [
      "[[0 1]\n",
      " [2 3]\n",
      " [4 5]]\n",
      "2\n",
      "After Unravelling......\n",
      "[0 1 2 3 4 5]\n",
      "1\n"
     ]
    }
   ],
   "source": [
    "arr1 = np.arange(6).reshape(3,2)\n",
    "# ravel function - does the same things like np.nditer()\n",
    "# converts an N dimesional array to 1D\n",
    "print(arr1)\n",
    "print(arr1.ndim)\n",
    "print(\"After Unravelling......\")\n",
    "arr2 = arr1.ravel()\n",
    "print(arr2)\n",
    "print(arr2.ndim)"
   ]
  },
  {
   "cell_type": "code",
   "execution_count": 14,
   "metadata": {},
   "outputs": [
    {
     "data": {
      "text/plain": [
       "array([[0, 2, 4],\n",
       "       [1, 3, 5]])"
      ]
     },
     "execution_count": 14,
     "metadata": {},
     "output_type": "execute_result"
    }
   ],
   "source": [
    "# Transpose - self explainatory\n",
    "arr1.transpose()"
   ]
  },
  {
   "cell_type": "code",
   "execution_count": 21,
   "metadata": {},
   "outputs": [
    {
     "name": "stdout",
     "output_type": "stream",
     "text": [
      "[[0 1]\n",
      " [2 3]\n",
      " [4 5]]\n",
      "[[ 6  7]\n",
      " [ 8  9]\n",
      " [10 11]]\n",
      "Horizontally Stacking....\n",
      "[[ 0  1  6  7]\n",
      " [ 2  3  8  9]\n",
      " [ 4  5 10 11]]\n",
      "Vertically Stacking....\n",
      "[[ 0  1]\n",
      " [ 2  3]\n",
      " [ 4  5]\n",
      " [ 6  7]\n",
      " [ 8  9]\n",
      " [10 11]]\n"
     ]
    }
   ],
   "source": [
    "# Stacking arrays\n",
    "arr3 = np.arange(6, 12).reshape(3,2)\n",
    "print(arr1)\n",
    "print(arr3)\n",
    "# Horizontally\n",
    "arr4 = np.hstack((arr1, arr3))\n",
    "# Vertically\n",
    "arr5 = np.vstack((arr1, arr3))\n",
    "print(\"Horizontally Stacking....\")\n",
    "print(arr4)\n",
    "print(\"Vertically Stacking....\")\n",
    "print(arr5)"
   ]
  },
  {
   "cell_type": "code",
   "execution_count": 28,
   "metadata": {},
   "outputs": [
    {
     "name": "stdout",
     "output_type": "stream",
     "text": [
      "[array([[ 0],\n",
      "       [ 2],\n",
      "       [ 4],\n",
      "       [ 6],\n",
      "       [ 8],\n",
      "       [10]]), array([[ 1],\n",
      "       [ 3],\n",
      "       [ 5],\n",
      "       [ 7],\n",
      "       [ 9],\n",
      "       [11]])]\n",
      "[array([[0, 1],\n",
      "       [2, 3]]), array([[4, 5],\n",
      "       [6, 7]]), array([[ 8,  9],\n",
      "       [10, 11]])]\n"
     ]
    }
   ],
   "source": [
    "# Splitting Arrays\n",
    "# hsplit splits into columns...\n",
    "print(np.hsplit(arr5, 2))\n",
    "# vsplit splits into rows...\n",
    "print(np.vsplit(arr5, 3))"
   ]
  },
  {
   "attachments": {},
   "cell_type": "markdown",
   "metadata": {},
   "source": [
    "## Indexing Using Boolean Arrays"
   ]
  },
  {
   "cell_type": "code",
   "execution_count": 34,
   "metadata": {},
   "outputs": [
    {
     "name": "stdout",
     "output_type": "stream",
     "text": [
      "[[False False  True  True]\n",
      " [False False  True  True]\n",
      " [False  True  True  True]]\n",
      "[ 6  7  8  9  5 10 11]\n"
     ]
    }
   ],
   "source": [
    "# Suppose you only want the elements which are greater then 50 from an array\n",
    "print(arr4 > 4)\n",
    "# now we superimpose this array on other array and make a new one only when there is true\n",
    "arr6 = arr4[arr4 > 4]\n",
    "print(arr6)"
   ]
  },
  {
   "cell_type": "code",
   "execution_count": 37,
   "metadata": {},
   "outputs": [
    {
     "name": "stdout",
     "output_type": "stream",
     "text": [
      "[ 7  9  5 11]\n"
     ]
    }
   ],
   "source": [
    "# the logic can be complex as well\n",
    "arr7 = arr4[(arr4 > 3) & (arr4 % 2 != 0 )]\n",
    "print(arr7)"
   ]
  },
  {
   "cell_type": "code",
   "execution_count": 41,
   "metadata": {},
   "outputs": [
    {
     "name": "stdout",
     "output_type": "stream",
     "text": [
      "[[10  7]\n",
      " [10  9]\n",
      " [10 11]]\n"
     ]
    }
   ],
   "source": [
    "# You can even change the elements in the original array with the same constraints\n",
    "arr3[(arr3 > 5) & (arr3 % 2 == 0)] = 10\n",
    "print(arr3)"
   ]
  }
 ],
 "metadata": {
  "kernelspec": {
   "display_name": "ds",
   "language": "python",
   "name": "python3"
  },
  "language_info": {
   "codemirror_mode": {
    "name": "ipython",
    "version": 3
   },
   "file_extension": ".py",
   "mimetype": "text/x-python",
   "name": "python",
   "nbconvert_exporter": "python",
   "pygments_lexer": "ipython3",
   "version": "3.10.11"
  },
  "orig_nbformat": 4
 },
 "nbformat": 4,
 "nbformat_minor": 2
}
